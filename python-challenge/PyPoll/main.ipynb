{
 "cells": [
  {
   "cell_type": "code",
   "execution_count": 1,
   "metadata": {},
   "outputs": [],
   "source": [
    "import os\n",
    "import csv"
   ]
  },
  {
   "cell_type": "code",
   "execution_count": 2,
   "metadata": {},
   "outputs": [],
   "source": [
    "csvpath = os.path.join(\"Resources\", \"election_data.csv\")"
   ]
  },
  {
   "cell_type": "code",
   "execution_count": 40,
   "metadata": {},
   "outputs": [],
   "source": [
    "# variables\n",
    "candidates = {}\n",
    "vote_count = 0\n",
    "cast = 0\n",
    "percentage_votes = 0\n",
    "total_votes = 0\n",
    "max_vote = {}\n",
    "max_voted = {}\n",
    "\n",
    "# open and read the csv\n",
    "with open(csvpath, newline=\"\") as csvfile:\n",
    "    #print(csvreader)\n",
    "    \n",
    "    # has header, skip header\n",
    "    csvreader = csv.reader(csvfile, delimiter=\",\")\n",
    "    csv_header = next(csvfile)\n",
    "    \n",
    "    # iterate through rows in csv\n",
    "    for row in csvreader:\n",
    "        \n",
    "        # total number votes cast\n",
    "        candidate = row[2]\n",
    "        # counting unique voter, count when a voter appears in list\n",
    "        vote_count += 1\n",
    "        if candidate in candidates.keys():\n",
    "            candidates[candidate] += 1\n",
    "        else:\n",
    "            candidates[candidate] = 1"
   ]
  },
  {
   "cell_type": "code",
   "execution_count": 42,
   "metadata": {},
   "outputs": [
    {
     "name": "stdout",
     "output_type": "stream",
     "text": [
      "Election Results\n",
      "-------------------------------\n",
      "Total Votes: 3521001\n",
      "-------------------------------\n",
      "Khan: 63% 5739232\n",
      "Correy: 19% 6443432\n",
      "Li: 13% 6936372\n",
      "O'Tooley: 2% 7042002\n",
      "-------------------------------\n",
      "Winner: O'Tooley\n"
     ]
    }
   ],
   "source": [
    " # print these statements first\n",
    "print(\"Election Results\")\n",
    "print(\"-------------------------------\")\n",
    "print(f\"Total Votes: {Count}\")\n",
    "print(\"-------------------------------\")\n",
    "\n",
    "     # total votes per candidate\n",
    "for candidate in candidates:\n",
    "        cast += candidates[candidate]\n",
    "    \n",
    "        # % of votes, \n",
    "        percentage_votes = (candidates[candidate])/(vote_count) * 100\n",
    "        print(f\"{candidate}: {int(percentage_votes)}% {cast}\")\n",
    "        \n",
    "        # winner\n",
    "        if candidates[candidate] > total_votes:\n",
    "            max_vote = candidate\n",
    "            max_voted = Candidates[candidate]\n",
    "\n",
    "print(\"-------------------------------\")\n",
    "print(f\"Winner: {max_vote}\")"
   ]
  },
  {
   "cell_type": "code",
   "execution_count": 48,
   "metadata": {},
   "outputs": [],
   "source": [
    "# output txt file\n",
    "output_txt = os.path.join(\"Resources\", \"election_results.txt\")\n",
    "with open(output_txt, 'w') as file:\n",
    "        file.write(f\"Election Results\")\n",
    "        file.write(\"\\n\")\n",
    "        file.write(f\"Total Votes: {Count}\")\n",
    "        file.write(\"\\n\")\n",
    "        file.write(f\"{candidate}: {int(percentage_votes)}% {cast}\")\n",
    "        file.write(\"\\n\")\n",
    "        file.write(f\"Winner: {max_vote}\")"
   ]
  },
  {
   "cell_type": "code",
   "execution_count": null,
   "metadata": {},
   "outputs": [],
   "source": []
  }
 ],
 "metadata": {
  "kernelspec": {
   "display_name": "Python 3",
   "language": "python",
   "name": "python3"
  },
  "language_info": {
   "codemirror_mode": {
    "name": "ipython",
    "version": 3
   },
   "file_extension": ".py",
   "mimetype": "text/x-python",
   "name": "python",
   "nbconvert_exporter": "python",
   "pygments_lexer": "ipython3",
   "version": "3.7.4"
  }
 },
 "nbformat": 4,
 "nbformat_minor": 2
}
